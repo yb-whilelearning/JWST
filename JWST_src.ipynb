{
  "nbformat": 4,
  "nbformat_minor": 0,
  "metadata": {
    "colab": {
      "provenance": [],
      "authorship_tag": "ABX9TyMo1/15kmFgOGLJuvgDh6A2",
      "include_colab_link": true
    },
    "kernelspec": {
      "name": "python3",
      "display_name": "Python 3"
    },
    "language_info": {
      "name": "python"
    }
  },
  "cells": [
    {
      "cell_type": "markdown",
      "metadata": {
        "id": "view-in-github",
        "colab_type": "text"
      },
      "source": [
        "<a href=\"https://colab.research.google.com/github/yb-whilelearning/JWST/blob/main/JWST_src.ipynb\" target=\"_parent\"><img src=\"https://colab.research.google.com/assets/colab-badge.svg\" alt=\"Open In Colab\"/></a>"
      ]
    },
    {
      "cell_type": "code",
      "source": [
        "from astropy.io import fits\n",
        "\n",
        "fits_file = '/CEERS_LW_SUPER_CATALOG.fits'\n",
        "hdul = fits.open(fits_file)\n",
        "\n",
        "# Check the structure of the FITS file\n",
        "hdul.info()\n",
        "\n",
        "# The main data table is usually in HDU 1 (index 1)\n",
        "data = hdul[1].data\n",
        "\n",
        "# Check the column names to understand what’s inside\n",
        "print(data.columns.names)\n",
        "\n",
        "print(\"col\\n\", hdul[1].columns.names)"
      ],
      "metadata": {
        "colab": {
          "base_uri": "https://localhost:8080/"
        },
        "id": "jSJo3NhsZe72",
        "outputId": "b1f6b9ce-b7ba-4b89-98df-e3b6e382eb3c"
      },
      "execution_count": 17,
      "outputs": [
        {
          "output_type": "stream",
          "name": "stdout",
          "text": [
            "Filename: /CEERS_LW_SUPER_CATALOG.fits\n",
            "No.    Name      Ver    Type      Cards   Dimensions   Format\n",
            "  0  PRIMARY       1 PrimaryHDU       4   ()      \n",
            "  1                1 BinTableHDU    198   89487R x 69C   [K, D, D, D, D, D, D, D, D, D, D, D, D, D, D, D, D, D, D, D, D, D, D, D, D, D, D, D, D, D, D, D, D, D, D, D, D, D, D, D, D, D, D, D, D, D, D, D, D, D, D, D, D, D, D, K, K, D, D, D, D, D, D, K, J, K, K, K, D]   \n",
            "['id', 'x', 'y', 'ra', 'dec', 'ebv_mw', 'faper_f277w+f356w+f444w', 'eaper_f277w+f356w+f444w', 'fauto_f277w+f356w+f444w', 'w_f277w+f356w+f444w', 'f_f435w', 'e_f435w', 'w_f435w', 'f_f606w', 'e_f606w', 'w_f606w', 'f_f814w', 'e_f814w', 'w_f814w', 'f_f105w', 'e_f105w', 'w_f105w', 'f_f115w', 'e_f115w', 'w_f115w', 'f_f125w', 'e_f125w', 'w_f125w', 'f_f140w', 'e_f140w', 'w_f140w', 'f_f150w', 'e_f150w', 'w_f150w', 'f_f160w', 'e_f160w', 'w_f160w', 'f_f200w', 'e_f200w', 'w_f200w', 'f_f277w', 'e_f277w', 'w_f277w', 'f_f356w', 'e_f356w', 'w_f356w', 'f_f410m', 'e_f410m', 'w_f410m', 'f_f444w', 'e_f444w', 'w_f444w', 'tot_cor', 'kron_radius', 'kron_radius_circ', 'use_circle', 'flag_kron', 'iso_area', 'use_aper', 'a_image', 'b_image', 'theta_J2000', 'flux_radius', 'use_phot', 'flag_nophot', 'flag_lowsnr', 'flag_star', 'flag_artifact', 'z_spec']\n",
            "col\n",
            " ['id', 'x', 'y', 'ra', 'dec', 'ebv_mw', 'faper_f277w+f356w+f444w', 'eaper_f277w+f356w+f444w', 'fauto_f277w+f356w+f444w', 'w_f277w+f356w+f444w', 'f_f435w', 'e_f435w', 'w_f435w', 'f_f606w', 'e_f606w', 'w_f606w', 'f_f814w', 'e_f814w', 'w_f814w', 'f_f105w', 'e_f105w', 'w_f105w', 'f_f115w', 'e_f115w', 'w_f115w', 'f_f125w', 'e_f125w', 'w_f125w', 'f_f140w', 'e_f140w', 'w_f140w', 'f_f150w', 'e_f150w', 'w_f150w', 'f_f160w', 'e_f160w', 'w_f160w', 'f_f200w', 'e_f200w', 'w_f200w', 'f_f277w', 'e_f277w', 'w_f277w', 'f_f356w', 'e_f356w', 'w_f356w', 'f_f410m', 'e_f410m', 'w_f410m', 'f_f444w', 'e_f444w', 'w_f444w', 'tot_cor', 'kron_radius', 'kron_radius_circ', 'use_circle', 'flag_kron', 'iso_area', 'use_aper', 'a_image', 'b_image', 'theta_J2000', 'flux_radius', 'use_phot', 'flag_nophot', 'flag_lowsnr', 'flag_star', 'flag_artifact', 'z_spec']\n"
          ]
        }
      ]
    },
    {
      "cell_type": "markdown",
      "source": [
        "A little about each column: meaning, info is described below.\n",
        "\n",
        "| Column Name                | Meaning                                                     |\n",
        "| -------------------------- | ----------------------------------------------------------- |\n",
        "| `id`                       | Unique object ID (e.g., star, galaxy)                       |\n",
        "| `x`, `y`                   | Image coordinates (pixels)                                  |\n",
        "| `ra`, `dec`                | Sky coordinates (Right Ascension, Declination)              |\n",
        "| `ebv_mw`                   | Milky Way dust extinction (E(B–V)) — can be ignored for now |\n",
        "| `faper_f277w+f356w+f444w`  | Combined **aperture flux** across three filters             |\n",
        "| `eaper_f277w+f356w+f444w`  | Error on the above                                          |\n",
        "| `fauto_f277w+f356w+f444w`  | Combined **auto flux** (like MAG\\_AUTO but for flux)        |\n",
        "| `w_*`                      | Weight or S/N info (can ignore for basic regression)        |\n",
        "| `f_f435w`, `f_f606w`, etc. | Individual **fluxes in each filter**                        |\n",
        "| `e_f435w`, `e_f606w`       | Associated **errors** in those fluxes                       |\n",
        "\n",
        "\n",
        "| Column Name          | Meaning                                                         |\n",
        "| -------------------- | --------------------------------------------------------------- |\n",
        "| `tot_cor`            | Total flux correction factor (scaling from aperture to total)   |\n",
        "| `kron_radius`        | Semi-major axis of Kron aperture (used in MAG\\_AUTO)            |\n",
        "| `kron_radius_circ`   | Circularized Kron radius                                        |\n",
        "| `use_circle`         | Bool: 1 if circular aperture used (instead of elliptical)       |\n",
        "| `flag_kron`          | SExtractor flag for Kron aperture — 0 = good                    |\n",
        "| `iso_area`           | Isophotal area (extent of detected object in pixels)            |\n",
        "| `use_aper`           | Bool: 1 if aperture photometry used                             |\n",
        "| `a_image`, `b_image` | Semi-major and semi-minor axes of object ellipse (pixels)       |\n",
        "| `theta_J2000`        | Orientation angle of object (degrees, east of north)            |\n",
        "| `flux_radius`        | Radius containing 50% of light (kind of like FWHM)              |\n",
        "| `use_phot`           | Bool: 1 if photometry is usable                                 |\n",
        "| `flag_nophot`        | Bool: 1 if photometry failed for some reason                    |\n",
        "| `flag_lowsnr`        | Bool: 1 if object has low signal-to-noise                       |\n",
        "| `flag_star`          | Bool: 1 if likely a **star**, 0 = likely **galaxy**             |\n",
        "| `flag_artifact`      | Bool: 1 if this is a suspected image artifact (bad pixel, etc.) |\n"
      ],
      "metadata": {
        "id": "9P_W8f2-Zxei"
      }
    }
  ]
}